{
 "cells": [
  {
   "cell_type": "code",
   "execution_count": 2,
   "metadata": {},
   "outputs": [],
   "source": [
    "import pandas as pd\n",
    "import os"
   ]
  },
  {
   "cell_type": "code",
   "execution_count": 21,
   "metadata": {},
   "outputs": [],
   "source": [
    "folder_data = [i for i in os.listdir('/home/jupyter-an.karpov/shared/Res_Tree') if not i.startswith('.')]"
   ]
  },
  {
   "cell_type": "code",
   "execution_count": 22,
   "metadata": {},
   "outputs": [],
   "source": [
    "# for i in folder_data:\n",
    "#     if not i.startswith('.'):\n",
    "#         print(i)\n",
    "\n",
    "# [i for i in folder_data if not i.startswith('.')]"
   ]
  },
  {
   "cell_type": "code",
   "execution_count": null,
   "metadata": {},
   "outputs": [],
   "source": [
    "# x = ['1', '2', 'start', '3', '4', 'end', '5', '6', 'start', '7', '8', 'end']\n",
    "# scanning = False\n",
    "# for i in x:\n",
    "#     if i == 'end':\n",
    "#         scanning = False\n",
    "#         continue    \n",
    "    \n",
    "#     if scanning:\n",
    "#         print(i)\n",
    "    \n",
    "    \n",
    "#     if i == 'start':\n",
    "#         scanning = True\n",
    "#         continue"
   ]
  },
  {
   "cell_type": "code",
   "execution_count": null,
   "metadata": {},
   "outputs": [],
   "source": []
  },
  {
   "cell_type": "code",
   "execution_count": 23,
   "metadata": {},
   "outputs": [
    {
     "data": {
      "text/plain": [
       "['F000545', 'M000547', 'F000570']"
      ]
     },
     "execution_count": 23,
     "metadata": {},
     "output_type": "execute_result"
    }
   ],
   "source": [
    "folder_data"
   ]
  },
  {
   "cell_type": "code",
   "execution_count": 70,
   "metadata": {},
   "outputs": [],
   "source": [
    "p = '/home/jupyter-an.karpov/shared/Res_Tree/F000545/res_2019.09.11_0.0_6493B6_Container-dat_2125_91-105-165_F000545/meals_list_2.txt'\n",
    "          \n",
    "          "
   ]
  },
  {
   "cell_type": "code",
   "execution_count": 71,
   "metadata": {},
   "outputs": [],
   "source": [
    "all_data = open(p).readlines()"
   ]
  },
  {
   "cell_type": "code",
   "execution_count": null,
   "metadata": {},
   "outputs": [],
   "source": []
  },
  {
   "cell_type": "code",
   "execution_count": 93,
   "metadata": {},
   "outputs": [],
   "source": [
    "all_data = []"
   ]
  },
  {
   "cell_type": "code",
   "execution_count": 94,
   "metadata": {},
   "outputs": [],
   "source": [
    "scanning = False\n",
    "for i in meal_data:\n",
    "    if i.startswith('-------------'):\n",
    "        scanning = False\n",
    "        continue    \n",
    "        \n",
    "    if scanning:\n",
    "        if 'Meal#;' in i:\n",
    "            col_name = i\n",
    "            continue\n",
    "        all_data.append([value.strip() for value in i.split(';')])\n",
    "        \n",
    "    \n",
    "    if 'Non-deleted saved meals' in i:\n",
    "        scanning = True\n",
    "        continue\n",
    "        "
   ]
  },
  {
   "cell_type": "code",
   "execution_count": null,
   "metadata": {},
   "outputs": [],
   "source": []
  },
  {
   "cell_type": "code",
   "execution_count": 95,
   "metadata": {},
   "outputs": [],
   "source": [
    "final_col_names = [col.strip() for col in col_name.split(';')]"
   ]
  },
  {
   "cell_type": "code",
   "execution_count": null,
   "metadata": {},
   "outputs": [],
   "source": []
  },
  {
   "cell_type": "code",
   "execution_count": 129,
   "metadata": {},
   "outputs": [],
   "source": [
    "meal_df = pd.DataFrame(all_data, columns=final_col_names[0:17])"
   ]
  },
  {
   "cell_type": "code",
   "execution_count": 130,
   "metadata": {},
   "outputs": [
    {
     "data": {
      "text/html": [
       "<div>\n",
       "<style scoped>\n",
       "    .dataframe tbody tr th:only-of-type {\n",
       "        vertical-align: middle;\n",
       "    }\n",
       "\n",
       "    .dataframe tbody tr th {\n",
       "        vertical-align: top;\n",
       "    }\n",
       "\n",
       "    .dataframe thead th {\n",
       "        text-align: right;\n",
       "    }\n",
       "</style>\n",
       "<table border=\"1\" class=\"dataframe\">\n",
       "  <thead>\n",
       "    <tr style=\"text-align: right;\">\n",
       "      <th></th>\n",
       "      <th>Meal#</th>\n",
       "      <th>Date</th>\n",
       "      <th>Start</th>\n",
       "      <th>End</th>\n",
       "      <th>Flags</th>\n",
       "      <th>E-IN</th>\n",
       "      <th>Cbh</th>\n",
       "      <th>Fat</th>\n",
       "      <th>Pro</th>\n",
       "      <th>S. tstamp</th>\n",
       "      <th>End tstamp</th>\n",
       "      <th>Minutes</th>\n",
       "      <th>Recs</th>\n",
       "      <th>First</th>\n",
       "      <th>Last</th>\n",
       "      <th>Type</th>\n",
       "      <th>Frags</th>\n",
       "    </tr>\n",
       "  </thead>\n",
       "  <tbody>\n",
       "    <tr>\n",
       "      <th>0</th>\n",
       "      <td>0</td>\n",
       "      <td>09.01.2020</td>\n",
       "      <td>10:54</td>\n",
       "      <td>12:33</td>\n",
       "      <td>0x84</td>\n",
       "      <td>247.41</td>\n",
       "      <td>18.85</td>\n",
       "      <td>13.58</td>\n",
       "      <td>12.45</td>\n",
       "      <td>1578556469</td>\n",
       "      <td>1578562439</td>\n",
       "      <td>100</td>\n",
       "      <td>100</td>\n",
       "      <td>1</td>\n",
       "      <td>100</td>\n",
       "      <td>F3-Meal</td>\n",
       "      <td></td>\n",
       "    </tr>\n",
       "    <tr>\n",
       "      <th>1</th>\n",
       "      <td>1</td>\n",
       "      <td>09.01.2020</td>\n",
       "      <td>12:42</td>\n",
       "      <td>14:11</td>\n",
       "      <td>0x84</td>\n",
       "      <td>198.60</td>\n",
       "      <td>17.00</td>\n",
       "      <td>10.31</td>\n",
       "      <td>9.45</td>\n",
       "      <td>1578562921</td>\n",
       "      <td>1578568288</td>\n",
       "      <td>90</td>\n",
       "      <td>94</td>\n",
       "      <td>104</td>\n",
       "      <td>197</td>\n",
       "      <td>F3-Meal</td>\n",
       "      <td></td>\n",
       "    </tr>\n",
       "    <tr>\n",
       "      <th>2</th>\n",
       "      <td>2</td>\n",
       "      <td>09.01.2020</td>\n",
       "      <td>14:31</td>\n",
       "      <td>16:41</td>\n",
       "      <td>0x84</td>\n",
       "      <td>320.71</td>\n",
       "      <td>23.09</td>\n",
       "      <td>18.03</td>\n",
       "      <td>16.53</td>\n",
       "      <td>1578569494</td>\n",
       "      <td>1578577272</td>\n",
       "      <td>130</td>\n",
       "      <td>130</td>\n",
       "      <td>217</td>\n",
       "      <td>346</td>\n",
       "      <td>F3-Meal</td>\n",
       "      <td></td>\n",
       "    </tr>\n",
       "    <tr>\n",
       "      <th>3</th>\n",
       "      <td>3</td>\n",
       "      <td>09.01.2020</td>\n",
       "      <td>16:57</td>\n",
       "      <td>18:01</td>\n",
       "      <td>0x84</td>\n",
       "      <td>136.57</td>\n",
       "      <td>12.71</td>\n",
       "      <td>6.77</td>\n",
       "      <td>6.20</td>\n",
       "      <td>1578578237</td>\n",
       "      <td>1578582096</td>\n",
       "      <td>65</td>\n",
       "      <td>65</td>\n",
       "      <td>362</td>\n",
       "      <td>426</td>\n",
       "      <td>F3-Meal</td>\n",
       "      <td></td>\n",
       "    </tr>\n",
       "    <tr>\n",
       "      <th>4</th>\n",
       "      <td>4</td>\n",
       "      <td>09.01.2020</td>\n",
       "      <td>18:09</td>\n",
       "      <td>19:46</td>\n",
       "      <td>0x84</td>\n",
       "      <td>193.10</td>\n",
       "      <td>16.25</td>\n",
       "      <td>10.11</td>\n",
       "      <td>9.27</td>\n",
       "      <td>1578582579</td>\n",
       "      <td>1578588367</td>\n",
       "      <td>97</td>\n",
       "      <td>97</td>\n",
       "      <td>434</td>\n",
       "      <td>530</td>\n",
       "      <td>F3-Meal</td>\n",
       "      <td></td>\n",
       "    </tr>\n",
       "  </tbody>\n",
       "</table>\n",
       "</div>"
      ],
      "text/plain": [
       "  Meal#        Date  Start    End Flags    E-IN    Cbh    Fat    Pro  \\\n",
       "0     0  09.01.2020  10:54  12:33  0x84  247.41  18.85  13.58  12.45   \n",
       "1     1  09.01.2020  12:42  14:11  0x84  198.60  17.00  10.31   9.45   \n",
       "2     2  09.01.2020  14:31  16:41  0x84  320.71  23.09  18.03  16.53   \n",
       "3     3  09.01.2020  16:57  18:01  0x84  136.57  12.71   6.77   6.20   \n",
       "4     4  09.01.2020  18:09  19:46  0x84  193.10  16.25  10.11   9.27   \n",
       "\n",
       "    S. tstamp  End tstamp Minutes Recs First Last     Type Frags  \n",
       "0  1578556469  1578562439     100  100     1  100  F3-Meal        \n",
       "1  1578562921  1578568288      90   94   104  197  F3-Meal        \n",
       "2  1578569494  1578577272     130  130   217  346  F3-Meal        \n",
       "3  1578578237  1578582096      65   65   362  426  F3-Meal        \n",
       "4  1578582579  1578588367      97   97   434  530  F3-Meal        "
      ]
     },
     "execution_count": 130,
     "metadata": {},
     "output_type": "execute_result"
    }
   ],
   "source": [
    "meal_df.head()"
   ]
  },
  {
   "cell_type": "code",
   "execution_count": 131,
   "metadata": {},
   "outputs": [],
   "source": [
    "meal_df = meal_df.astype({'Minutes': 'int', 'Pro': 'float'})"
   ]
  },
  {
   "cell_type": "code",
   "execution_count": 132,
   "metadata": {},
   "outputs": [],
   "source": [
    "meal_df['Date'] = pd.to_datetime(meal_df.Date)"
   ]
  },
  {
   "cell_type": "code",
   "execution_count": 133,
   "metadata": {},
   "outputs": [],
   "source": [
    "user_meal_df = meal_df[['Date', 'Pro', 'Minutes']]"
   ]
  },
  {
   "cell_type": "code",
   "execution_count": null,
   "metadata": {},
   "outputs": [],
   "source": []
  },
  {
   "cell_type": "code",
   "execution_count": 142,
   "metadata": {},
   "outputs": [],
   "source": [
    "df = user_meal_df.groupby('Date', as_index=False) \\\n",
    "    .agg({'Minutes': 'sum'})"
   ]
  },
  {
   "cell_type": "code",
   "execution_count": 143,
   "metadata": {},
   "outputs": [],
   "source": [
    "df.to_csv('df_minutes.csv', index=False)"
   ]
  },
  {
   "cell_type": "code",
   "execution_count": null,
   "metadata": {},
   "outputs": [],
   "source": []
  }
 ],
 "metadata": {
  "kernelspec": {
   "display_name": "Python 3",
   "language": "python",
   "name": "python3"
  },
  "language_info": {
   "codemirror_mode": {
    "name": "ipython",
    "version": 3
   },
   "file_extension": ".py",
   "mimetype": "text/x-python",
   "name": "python",
   "nbconvert_exporter": "python",
   "pygments_lexer": "ipython3",
   "version": "3.7.3"
  }
 },
 "nbformat": 4,
 "nbformat_minor": 4
}
