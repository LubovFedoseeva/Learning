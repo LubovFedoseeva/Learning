{
 "cells": [
  {
   "cell_type": "code",
   "execution_count": 28,
   "metadata": {},
   "outputs": [],
   "source": [
    "names = 'Name1 Surname1, Name2 Surname2, Name3 Surname3'"
   ]
  },
  {
   "cell_type": "code",
   "execution_count": 37,
   "metadata": {},
   "outputs": [],
   "source": [
    "names_list = names.split(', ')"
   ]
  },
  {
   "cell_type": "code",
   "execution_count": 38,
   "metadata": {},
   "outputs": [
    {
     "data": {
      "text/plain": [
       "['Name1 Surname1', 'Name2 Surname2', 'Name3 Surname3']"
      ]
     },
     "execution_count": 38,
     "metadata": {},
     "output_type": "execute_result"
    }
   ],
   "source": [
    "names_list"
   ]
  },
  {
   "cell_type": "code",
   "execution_count": null,
   "metadata": {},
   "outputs": [],
   "source": []
  },
  {
   "cell_type": "code",
   "execution_count": 118,
   "metadata": {},
   "outputs": [],
   "source": [
    "import pandas as pd\n",
    "\n",
    "import seaborn as sns\n",
    "import matplotlib.pyplot as plt"
   ]
  },
  {
   "cell_type": "code",
   "execution_count": 62,
   "metadata": {},
   "outputs": [],
   "source": [
    "df = pd.DataFrame({\n",
    "    'client_id': [9002, 6722, 8799, 8737, 5392],\n",
    "    'sex': [1, 1, 1, 0, 0],\n",
    "    'wealth': ['medium', 'high', 'high', 'low', 'medium'],\n",
    "    'age': [63, 54, 62, 54, 37]\n",
    "})"
   ]
  },
  {
   "cell_type": "code",
   "execution_count": 63,
   "metadata": {},
   "outputs": [
    {
     "data": {
      "text/html": [
       "<div>\n",
       "<style scoped>\n",
       "    .dataframe tbody tr th:only-of-type {\n",
       "        vertical-align: middle;\n",
       "    }\n",
       "\n",
       "    .dataframe tbody tr th {\n",
       "        vertical-align: top;\n",
       "    }\n",
       "\n",
       "    .dataframe thead th {\n",
       "        text-align: right;\n",
       "    }\n",
       "</style>\n",
       "<table border=\"1\" class=\"dataframe\">\n",
       "  <thead>\n",
       "    <tr style=\"text-align: right;\">\n",
       "      <th></th>\n",
       "      <th>client_id</th>\n",
       "      <th>sex</th>\n",
       "      <th>wealth</th>\n",
       "      <th>age</th>\n",
       "    </tr>\n",
       "  </thead>\n",
       "  <tbody>\n",
       "    <tr>\n",
       "      <th>0</th>\n",
       "      <td>9002</td>\n",
       "      <td>1</td>\n",
       "      <td>medium</td>\n",
       "      <td>63</td>\n",
       "    </tr>\n",
       "    <tr>\n",
       "      <th>1</th>\n",
       "      <td>6722</td>\n",
       "      <td>1</td>\n",
       "      <td>high</td>\n",
       "      <td>54</td>\n",
       "    </tr>\n",
       "    <tr>\n",
       "      <th>2</th>\n",
       "      <td>8799</td>\n",
       "      <td>1</td>\n",
       "      <td>high</td>\n",
       "      <td>62</td>\n",
       "    </tr>\n",
       "    <tr>\n",
       "      <th>3</th>\n",
       "      <td>8737</td>\n",
       "      <td>0</td>\n",
       "      <td>low</td>\n",
       "      <td>54</td>\n",
       "    </tr>\n",
       "    <tr>\n",
       "      <th>4</th>\n",
       "      <td>5392</td>\n",
       "      <td>0</td>\n",
       "      <td>medium</td>\n",
       "      <td>37</td>\n",
       "    </tr>\n",
       "  </tbody>\n",
       "</table>\n",
       "</div>"
      ],
      "text/plain": [
       "   client_id  sex  wealth  age\n",
       "0       9002    1  medium   63\n",
       "1       6722    1    high   54\n",
       "2       8799    1    high   62\n",
       "3       8737    0     low   54\n",
       "4       5392    0  medium   37"
      ]
     },
     "execution_count": 63,
     "metadata": {},
     "output_type": "execute_result"
    }
   ],
   "source": [
    "df"
   ]
  },
  {
   "cell_type": "code",
   "execution_count": 64,
   "metadata": {},
   "outputs": [],
   "source": [
    "medium_35 = df.query(\"wealth == 'medium' and age > 35\")"
   ]
  },
  {
   "cell_type": "code",
   "execution_count": 65,
   "metadata": {},
   "outputs": [],
   "source": [
    "df['older_than_30'] = df.age > 30"
   ]
  },
  {
   "cell_type": "code",
   "execution_count": 66,
   "metadata": {},
   "outputs": [
    {
     "data": {
      "text/html": [
       "<div>\n",
       "<style scoped>\n",
       "    .dataframe tbody tr th:only-of-type {\n",
       "        vertical-align: middle;\n",
       "    }\n",
       "\n",
       "    .dataframe tbody tr th {\n",
       "        vertical-align: top;\n",
       "    }\n",
       "\n",
       "    .dataframe thead th {\n",
       "        text-align: right;\n",
       "    }\n",
       "</style>\n",
       "<table border=\"1\" class=\"dataframe\">\n",
       "  <thead>\n",
       "    <tr style=\"text-align: right;\">\n",
       "      <th></th>\n",
       "      <th>client_id</th>\n",
       "      <th>sex</th>\n",
       "      <th>wealth</th>\n",
       "      <th>age</th>\n",
       "      <th>older_than_30</th>\n",
       "    </tr>\n",
       "  </thead>\n",
       "  <tbody>\n",
       "    <tr>\n",
       "      <th>0</th>\n",
       "      <td>9002</td>\n",
       "      <td>1</td>\n",
       "      <td>medium</td>\n",
       "      <td>63</td>\n",
       "      <td>True</td>\n",
       "    </tr>\n",
       "    <tr>\n",
       "      <th>1</th>\n",
       "      <td>6722</td>\n",
       "      <td>1</td>\n",
       "      <td>high</td>\n",
       "      <td>54</td>\n",
       "      <td>True</td>\n",
       "    </tr>\n",
       "    <tr>\n",
       "      <th>2</th>\n",
       "      <td>8799</td>\n",
       "      <td>1</td>\n",
       "      <td>high</td>\n",
       "      <td>62</td>\n",
       "      <td>True</td>\n",
       "    </tr>\n",
       "    <tr>\n",
       "      <th>3</th>\n",
       "      <td>8737</td>\n",
       "      <td>0</td>\n",
       "      <td>low</td>\n",
       "      <td>54</td>\n",
       "      <td>True</td>\n",
       "    </tr>\n",
       "    <tr>\n",
       "      <th>4</th>\n",
       "      <td>5392</td>\n",
       "      <td>0</td>\n",
       "      <td>medium</td>\n",
       "      <td>37</td>\n",
       "      <td>True</td>\n",
       "    </tr>\n",
       "  </tbody>\n",
       "</table>\n",
       "</div>"
      ],
      "text/plain": [
       "   client_id  sex  wealth  age  older_than_30\n",
       "0       9002    1  medium   63           True\n",
       "1       6722    1    high   54           True\n",
       "2       8799    1    high   62           True\n",
       "3       8737    0     low   54           True\n",
       "4       5392    0  medium   37           True"
      ]
     },
     "execution_count": 66,
     "metadata": {},
     "output_type": "execute_result"
    }
   ],
   "source": [
    "df"
   ]
  },
  {
   "cell_type": "code",
   "execution_count": 67,
   "metadata": {},
   "outputs": [],
   "source": [
    "unique_num = df.nunique()"
   ]
  },
  {
   "cell_type": "code",
   "execution_count": 68,
   "metadata": {},
   "outputs": [
    {
     "data": {
      "text/plain": [
       "client_id        5\n",
       "sex              2\n",
       "wealth           3\n",
       "age              4\n",
       "older_than_30    1\n",
       "dtype: int64"
      ]
     },
     "execution_count": 68,
     "metadata": {},
     "output_type": "execute_result"
    }
   ],
   "source": [
    "unique_num"
   ]
  },
  {
   "cell_type": "code",
   "execution_count": null,
   "metadata": {},
   "outputs": [],
   "source": []
  },
  {
   "cell_type": "code",
   "execution_count": 69,
   "metadata": {},
   "outputs": [],
   "source": [
    "data = pd.DataFrame(\n",
    "{\n",
    "    'client_id': [5392, 9581, 7250, 8619, 6573],\n",
    "    'amount': [42331, 88420, 1714, 80572, 57549],\n",
    "    'date': [15333349325, 145434545434, 45343243342, 45311943342, 45343243567]\n",
    "})"
   ]
  },
  {
   "cell_type": "code",
   "execution_count": 70,
   "metadata": {},
   "outputs": [
    {
     "data": {
      "text/html": [
       "<div>\n",
       "<style scoped>\n",
       "    .dataframe tbody tr th:only-of-type {\n",
       "        vertical-align: middle;\n",
       "    }\n",
       "\n",
       "    .dataframe tbody tr th {\n",
       "        vertical-align: top;\n",
       "    }\n",
       "\n",
       "    .dataframe thead th {\n",
       "        text-align: right;\n",
       "    }\n",
       "</style>\n",
       "<table border=\"1\" class=\"dataframe\">\n",
       "  <thead>\n",
       "    <tr style=\"text-align: right;\">\n",
       "      <th></th>\n",
       "      <th>client_id</th>\n",
       "      <th>amount</th>\n",
       "      <th>date</th>\n",
       "    </tr>\n",
       "  </thead>\n",
       "  <tbody>\n",
       "    <tr>\n",
       "      <th>0</th>\n",
       "      <td>5392</td>\n",
       "      <td>42331</td>\n",
       "      <td>15333349325</td>\n",
       "    </tr>\n",
       "    <tr>\n",
       "      <th>1</th>\n",
       "      <td>9581</td>\n",
       "      <td>88420</td>\n",
       "      <td>145434545434</td>\n",
       "    </tr>\n",
       "    <tr>\n",
       "      <th>2</th>\n",
       "      <td>7250</td>\n",
       "      <td>1714</td>\n",
       "      <td>45343243342</td>\n",
       "    </tr>\n",
       "    <tr>\n",
       "      <th>3</th>\n",
       "      <td>8619</td>\n",
       "      <td>80572</td>\n",
       "      <td>45311943342</td>\n",
       "    </tr>\n",
       "    <tr>\n",
       "      <th>4</th>\n",
       "      <td>6573</td>\n",
       "      <td>57549</td>\n",
       "      <td>45343243567</td>\n",
       "    </tr>\n",
       "  </tbody>\n",
       "</table>\n",
       "</div>"
      ],
      "text/plain": [
       "   client_id  amount          date\n",
       "0       5392   42331   15333349325\n",
       "1       9581   88420  145434545434\n",
       "2       7250    1714   45343243342\n",
       "3       8619   80572   45311943342\n",
       "4       6573   57549   45343243567"
      ]
     },
     "execution_count": 70,
     "metadata": {},
     "output_type": "execute_result"
    }
   ],
   "source": [
    "data"
   ]
  },
  {
   "cell_type": "code",
   "execution_count": 72,
   "metadata": {},
   "outputs": [],
   "source": [
    "full_data = data.merge(df, how='inner', on='client_id')"
   ]
  },
  {
   "cell_type": "code",
   "execution_count": null,
   "metadata": {},
   "outputs": [],
   "source": []
  },
  {
   "cell_type": "code",
   "execution_count": 80,
   "metadata": {},
   "outputs": [],
   "source": [
    "df = pd.read_csv('/home/jupyter-l.fedoseeva-12/Lesson_3/companies.csv', sep=';')"
   ]
  },
  {
   "cell_type": "code",
   "execution_count": 81,
   "metadata": {},
   "outputs": [
    {
     "data": {
      "text/html": [
       "<div>\n",
       "<style scoped>\n",
       "    .dataframe tbody tr th:only-of-type {\n",
       "        vertical-align: middle;\n",
       "    }\n",
       "\n",
       "    .dataframe tbody tr th {\n",
       "        vertical-align: top;\n",
       "    }\n",
       "\n",
       "    .dataframe thead th {\n",
       "        text-align: right;\n",
       "    }\n",
       "</style>\n",
       "<table border=\"1\" class=\"dataframe\">\n",
       "  <thead>\n",
       "    <tr style=\"text-align: right;\">\n",
       "      <th></th>\n",
       "      <th>company</th>\n",
       "      <th>income</th>\n",
       "      <th>date</th>\n",
       "    </tr>\n",
       "  </thead>\n",
       "  <tbody>\n",
       "    <tr>\n",
       "      <th>0</th>\n",
       "      <td>ЗАО «Доронин, Колобов и Калашникова»</td>\n",
       "      <td>1221331958</td>\n",
       "      <td>2019-09-09</td>\n",
       "    </tr>\n",
       "    <tr>\n",
       "      <th>1</th>\n",
       "      <td>ООО «Авдеев»</td>\n",
       "      <td>21116804375</td>\n",
       "      <td>1972-12-21</td>\n",
       "    </tr>\n",
       "    <tr>\n",
       "      <th>2</th>\n",
       "      <td>РАО «Аксенов Сорокина»</td>\n",
       "      <td>79257158759</td>\n",
       "      <td>2007-03-05</td>\n",
       "    </tr>\n",
       "    <tr>\n",
       "      <th>3</th>\n",
       "      <td>Ларионов Инкорпорэйтед</td>\n",
       "      <td>36799366126</td>\n",
       "      <td>2011-08-11</td>\n",
       "    </tr>\n",
       "    <tr>\n",
       "      <th>4</th>\n",
       "      <td>Григорьев Инкорпорэйтед</td>\n",
       "      <td>48201837498</td>\n",
       "      <td>1989-09-02</td>\n",
       "    </tr>\n",
       "    <tr>\n",
       "      <th>...</th>\n",
       "      <td>...</td>\n",
       "      <td>...</td>\n",
       "      <td>...</td>\n",
       "    </tr>\n",
       "    <tr>\n",
       "      <th>288</th>\n",
       "      <td>Сэтл групп</td>\n",
       "      <td>6152279994</td>\n",
       "      <td>2004-03-30</td>\n",
       "    </tr>\n",
       "    <tr>\n",
       "      <th>289</th>\n",
       "      <td>ОАО «Горшков Чернов»</td>\n",
       "      <td>26623978007</td>\n",
       "      <td>2004-03-30</td>\n",
       "    </tr>\n",
       "    <tr>\n",
       "      <th>290</th>\n",
       "      <td>НПО «Фадеев»</td>\n",
       "      <td>84314056422</td>\n",
       "      <td>1998-09-03</td>\n",
       "    </tr>\n",
       "    <tr>\n",
       "      <th>291</th>\n",
       "      <td>Петролеум Трейдинг</td>\n",
       "      <td>95528839292</td>\n",
       "      <td>1975-01-31</td>\n",
       "    </tr>\n",
       "    <tr>\n",
       "      <th>292</th>\n",
       "      <td>ОАО «Жданова»</td>\n",
       "      <td>40620723709</td>\n",
       "      <td>2016-04-19</td>\n",
       "    </tr>\n",
       "  </tbody>\n",
       "</table>\n",
       "<p>293 rows × 3 columns</p>\n",
       "</div>"
      ],
      "text/plain": [
       "                                  company       income        date\n",
       "0    ЗАО «Доронин, Колобов и Калашникова»   1221331958  2019-09-09\n",
       "1                            ООО «Авдеев»  21116804375  1972-12-21\n",
       "2                  РАО «Аксенов Сорокина»  79257158759  2007-03-05\n",
       "3                  Ларионов Инкорпорэйтед  36799366126  2011-08-11\n",
       "4                 Григорьев Инкорпорэйтед  48201837498  1989-09-02\n",
       "..                                    ...          ...         ...\n",
       "288                            Сэтл групп   6152279994  2004-03-30\n",
       "289                  ОАО «Горшков Чернов»  26623978007  2004-03-30\n",
       "290                          НПО «Фадеев»  84314056422  1998-09-03\n",
       "291                    Петролеум Трейдинг  95528839292  1975-01-31\n",
       "292                         ОАО «Жданова»  40620723709  2016-04-19\n",
       "\n",
       "[293 rows x 3 columns]"
      ]
     },
     "execution_count": 81,
     "metadata": {},
     "output_type": "execute_result"
    }
   ],
   "source": [
    "df"
   ]
  },
  {
   "cell_type": "code",
   "execution_count": 82,
   "metadata": {},
   "outputs": [
    {
     "data": {
      "text/html": [
       "<div>\n",
       "<style scoped>\n",
       "    .dataframe tbody tr th:only-of-type {\n",
       "        vertical-align: middle;\n",
       "    }\n",
       "\n",
       "    .dataframe tbody tr th {\n",
       "        vertical-align: top;\n",
       "    }\n",
       "\n",
       "    .dataframe thead th {\n",
       "        text-align: right;\n",
       "    }\n",
       "</style>\n",
       "<table border=\"1\" class=\"dataframe\">\n",
       "  <thead>\n",
       "    <tr style=\"text-align: right;\">\n",
       "      <th></th>\n",
       "      <th>income</th>\n",
       "    </tr>\n",
       "    <tr>\n",
       "      <th>company</th>\n",
       "      <th></th>\n",
       "    </tr>\n",
       "  </thead>\n",
       "  <tbody>\n",
       "    <tr>\n",
       "      <th>En +</th>\n",
       "      <td>9.962187e+10</td>\n",
       "    </tr>\n",
       "    <tr>\n",
       "      <th>АО «Александрова, Савельев и Мельникова»</th>\n",
       "      <td>7.206782e+10</td>\n",
       "    </tr>\n",
       "    <tr>\n",
       "      <th>АО «Андреев-Анисимов»</th>\n",
       "      <td>6.931948e+09</td>\n",
       "    </tr>\n",
       "    <tr>\n",
       "      <th>АО «Андреев-Макарова»</th>\n",
       "      <td>8.934380e+10</td>\n",
       "    </tr>\n",
       "    <tr>\n",
       "      <th>АО «Большаков Кошелева»</th>\n",
       "      <td>7.860861e+10</td>\n",
       "    </tr>\n",
       "    <tr>\n",
       "      <th>...</th>\n",
       "      <td>...</td>\n",
       "    </tr>\n",
       "    <tr>\n",
       "      <th>Щекиноазот</th>\n",
       "      <td>4.309092e+10</td>\n",
       "    </tr>\n",
       "    <tr>\n",
       "      <th>Щукин Лимитед</th>\n",
       "      <td>6.703036e+10</td>\n",
       "    </tr>\n",
       "    <tr>\n",
       "      <th>Эйвон Бьюти Продактс Компани (Avon)</th>\n",
       "      <td>2.503657e+10</td>\n",
       "    </tr>\n",
       "    <tr>\n",
       "      <th>Яковлева Инкорпорэйтед</th>\n",
       "      <td>3.523436e+10</td>\n",
       "    </tr>\n",
       "    <tr>\n",
       "      <th>Якушев Лимитед</th>\n",
       "      <td>3.876468e+10</td>\n",
       "    </tr>\n",
       "  </tbody>\n",
       "</table>\n",
       "<p>289 rows × 1 columns</p>\n",
       "</div>"
      ],
      "text/plain": [
       "                                                income\n",
       "company                                               \n",
       "En +                                      9.962187e+10\n",
       "АО «Александрова, Савельев и Мельникова»  7.206782e+10\n",
       "АО «Андреев-Анисимов»                     6.931948e+09\n",
       "АО «Андреев-Макарова»                     8.934380e+10\n",
       "АО «Большаков Кошелева»                   7.860861e+10\n",
       "...                                                ...\n",
       "Щекиноазот                                4.309092e+10\n",
       "Щукин Лимитед                             6.703036e+10\n",
       "Эйвон Бьюти Продактс Компани (Avon)       2.503657e+10\n",
       "Яковлева Инкорпорэйтед                    3.523436e+10\n",
       "Якушев Лимитед                            3.876468e+10\n",
       "\n",
       "[289 rows x 1 columns]"
      ]
     },
     "execution_count": 82,
     "metadata": {},
     "output_type": "execute_result"
    }
   ],
   "source": [
    "df.groupby('company') \\\n",
    "    .agg({'income': 'mean'})"
   ]
  },
  {
   "cell_type": "code",
   "execution_count": 84,
   "metadata": {},
   "outputs": [],
   "source": [
    "def read_n_agg(site):\n",
    "    df = pd.read_csv(site, sep=';')\n",
    "    \n",
    "    res = df.groupby('company') \\\n",
    "    .agg({'income': 'mean'})\n",
    "    \n",
    "    return res\n",
    "# через функцию"
   ]
  },
  {
   "cell_type": "code",
   "execution_count": null,
   "metadata": {},
   "outputs": [],
   "source": []
  },
  {
   "cell_type": "code",
   "execution_count": 93,
   "metadata": {},
   "outputs": [],
   "source": [
    "taxi = pd.read_csv('/home/jupyter-l.fedoseeva-12/Lesson_3/taxi_peru.csv', sep=';',\n",
    "                  parse_dates=['start_at', 'end_at', 'arrived_at'])"
   ]
  },
  {
   "cell_type": "code",
   "execution_count": 97,
   "metadata": {},
   "outputs": [
    {
     "data": {
      "text/html": [
       "<div>\n",
       "<style scoped>\n",
       "    .dataframe tbody tr th:only-of-type {\n",
       "        vertical-align: middle;\n",
       "    }\n",
       "\n",
       "    .dataframe tbody tr th {\n",
       "        vertical-align: top;\n",
       "    }\n",
       "\n",
       "    .dataframe thead th {\n",
       "        text-align: right;\n",
       "    }\n",
       "</style>\n",
       "<table border=\"1\" class=\"dataframe\">\n",
       "  <thead>\n",
       "    <tr style=\"text-align: right;\">\n",
       "      <th></th>\n",
       "      <th>journey_id</th>\n",
       "      <th>user_id</th>\n",
       "      <th>driver_id</th>\n",
       "      <th>taxi_id</th>\n",
       "      <th>icon</th>\n",
       "      <th>start_type</th>\n",
       "      <th>start_at</th>\n",
       "      <th>start_lat</th>\n",
       "      <th>start_lon</th>\n",
       "      <th>end_at</th>\n",
       "      <th>end_lat</th>\n",
       "      <th>end_lon</th>\n",
       "      <th>end_state</th>\n",
       "      <th>driver_start_lat</th>\n",
       "      <th>driver_start_lon</th>\n",
       "      <th>arrived_at</th>\n",
       "      <th>source</th>\n",
       "      <th>driver_score</th>\n",
       "      <th>rider_score</th>\n",
       "    </tr>\n",
       "  </thead>\n",
       "  <tbody>\n",
       "    <tr>\n",
       "      <th>0</th>\n",
       "      <td>23a1406fc6a11d866e3c82f22eed4d4c</td>\n",
       "      <td>0e9af5bbf1edfe591b54ecdfd7e91e26</td>\n",
       "      <td>583949a89a9ee17d19e3ca4f137b6b4c</td>\n",
       "      <td>b12f4f09c783e29fe0d0ea624530db56</td>\n",
       "      <td>executive</td>\n",
       "      <td>asap</td>\n",
       "      <td>2010-11-16 16:44:00</td>\n",
       "      <td>-12,13983536</td>\n",
       "      <td>-77,02355957</td>\n",
       "      <td>2010-11-16 17:29:00</td>\n",
       "      <td>-12,05537033</td>\n",
       "      <td>-77,0413208</td>\n",
       "      <td>drop off</td>\n",
       "      <td>-12,10825481</td>\n",
       "      <td>-77,0272739</td>\n",
       "      <td>2010-11-16 17:02:00</td>\n",
       "      <td>iPhone</td>\n",
       "      <td>5.0</td>\n",
       "      <td>5.0</td>\n",
       "    </tr>\n",
       "    <tr>\n",
       "      <th>1</th>\n",
       "      <td>dd2af4715d0dc16eded53afc0e243577</td>\n",
       "      <td>a553c46e3a22fb9c326aeb3d72b3334e</td>\n",
       "      <td>NaN</td>\n",
       "      <td>NaN</td>\n",
       "      <td>executive</td>\n",
       "      <td>asap</td>\n",
       "      <td>2010-06-01 00:34:00</td>\n",
       "      <td>-12,13874817</td>\n",
       "      <td>-76,99536133</td>\n",
       "      <td>2010-06-01 00:37:00</td>\n",
       "      <td>-12,12465668</td>\n",
       "      <td>-77,02886963</td>\n",
       "      <td>not found</td>\n",
       "      <td>NaN</td>\n",
       "      <td>NaN</td>\n",
       "      <td>NaT</td>\n",
       "      <td>iPhone</td>\n",
       "      <td>NaN</td>\n",
       "      <td>NaN</td>\n",
       "    </tr>\n",
       "    <tr>\n",
       "      <th>2</th>\n",
       "      <td>dd91e131888064bf7df3ce08f3d4b4ad</td>\n",
       "      <td>a553c46e3a22fb9c326aeb3d72b3334e</td>\n",
       "      <td>NaN</td>\n",
       "      <td>NaN</td>\n",
       "      <td>executive</td>\n",
       "      <td>asap</td>\n",
       "      <td>2010-05-31 05:01:00</td>\n",
       "      <td>-12,12453079</td>\n",
       "      <td>-77,02780151</td>\n",
       "      <td>2010-05-31 05:04:00</td>\n",
       "      <td>-12,13883209</td>\n",
       "      <td>-76,99530029</td>\n",
       "      <td>not found</td>\n",
       "      <td>NaN</td>\n",
       "      <td>NaN</td>\n",
       "      <td>NaT</td>\n",
       "      <td>iPhone</td>\n",
       "      <td>NaN</td>\n",
       "      <td>NaN</td>\n",
       "    </tr>\n",
       "    <tr>\n",
       "      <th>3</th>\n",
       "      <td>dd2af4715d0dc16eded53afc0e2466d0</td>\n",
       "      <td>a553c46e3a22fb9c326aeb3d72b3334e</td>\n",
       "      <td>NaN</td>\n",
       "      <td>NaN</td>\n",
       "      <td>executive</td>\n",
       "      <td>asap</td>\n",
       "      <td>2010-06-01 00:29:00</td>\n",
       "      <td>-12,13885117</td>\n",
       "      <td>-76,99530029</td>\n",
       "      <td>2010-06-01 00:32:00</td>\n",
       "      <td>-12,12458801</td>\n",
       "      <td>-77,02896118</td>\n",
       "      <td>not found</td>\n",
       "      <td>NaN</td>\n",
       "      <td>NaN</td>\n",
       "      <td>NaT</td>\n",
       "      <td>iPhone</td>\n",
       "      <td>NaN</td>\n",
       "      <td>NaN</td>\n",
       "    </tr>\n",
       "    <tr>\n",
       "      <th>4</th>\n",
       "      <td>85b7eabcf5d84e42dc7629b7d27781af</td>\n",
       "      <td>56772d544fdfa589a020a1ff894a86f7</td>\n",
       "      <td>d665fb9f75ef5d9cd0fd89479380ba78</td>\n",
       "      <td>0accdd3aa5a322f4129fa20b53278c69</td>\n",
       "      <td>executive</td>\n",
       "      <td>reserved</td>\n",
       "      <td>2010-09-11 23:55:00</td>\n",
       "      <td>-12,08995438</td>\n",
       "      <td>-76,92626953</td>\n",
       "      <td>2010-09-12 01:07:00</td>\n",
       "      <td>-12,02223206</td>\n",
       "      <td>-77,10638428</td>\n",
       "      <td>drop off</td>\n",
       "      <td>-12,08311558</td>\n",
       "      <td>-76,9277072</td>\n",
       "      <td>2010-09-11 23:50:00</td>\n",
       "      <td>iPhone</td>\n",
       "      <td>4.0</td>\n",
       "      <td>5.0</td>\n",
       "    </tr>\n",
       "  </tbody>\n",
       "</table>\n",
       "</div>"
      ],
      "text/plain": [
       "                         journey_id                           user_id  \\\n",
       "0  23a1406fc6a11d866e3c82f22eed4d4c  0e9af5bbf1edfe591b54ecdfd7e91e26   \n",
       "1  dd2af4715d0dc16eded53afc0e243577  a553c46e3a22fb9c326aeb3d72b3334e   \n",
       "2  dd91e131888064bf7df3ce08f3d4b4ad  a553c46e3a22fb9c326aeb3d72b3334e   \n",
       "3  dd2af4715d0dc16eded53afc0e2466d0  a553c46e3a22fb9c326aeb3d72b3334e   \n",
       "4  85b7eabcf5d84e42dc7629b7d27781af  56772d544fdfa589a020a1ff894a86f7   \n",
       "\n",
       "                          driver_id                           taxi_id  \\\n",
       "0  583949a89a9ee17d19e3ca4f137b6b4c  b12f4f09c783e29fe0d0ea624530db56   \n",
       "1                               NaN                               NaN   \n",
       "2                               NaN                               NaN   \n",
       "3                               NaN                               NaN   \n",
       "4  d665fb9f75ef5d9cd0fd89479380ba78  0accdd3aa5a322f4129fa20b53278c69   \n",
       "\n",
       "        icon start_type            start_at     start_lat     start_lon  \\\n",
       "0  executive       asap 2010-11-16 16:44:00  -12,13983536  -77,02355957   \n",
       "1  executive       asap 2010-06-01 00:34:00  -12,13874817  -76,99536133   \n",
       "2  executive       asap 2010-05-31 05:01:00  -12,12453079  -77,02780151   \n",
       "3  executive       asap 2010-06-01 00:29:00  -12,13885117  -76,99530029   \n",
       "4  executive   reserved 2010-09-11 23:55:00  -12,08995438  -76,92626953   \n",
       "\n",
       "               end_at       end_lat       end_lon  end_state driver_start_lat  \\\n",
       "0 2010-11-16 17:29:00  -12,05537033   -77,0413208   drop off     -12,10825481   \n",
       "1 2010-06-01 00:37:00  -12,12465668  -77,02886963  not found              NaN   \n",
       "2 2010-05-31 05:04:00  -12,13883209  -76,99530029  not found              NaN   \n",
       "3 2010-06-01 00:32:00  -12,12458801  -77,02896118  not found              NaN   \n",
       "4 2010-09-12 01:07:00  -12,02223206  -77,10638428   drop off     -12,08311558   \n",
       "\n",
       "  driver_start_lon          arrived_at  source  driver_score  rider_score  \n",
       "0      -77,0272739 2010-11-16 17:02:00  iPhone           5.0          5.0  \n",
       "1              NaN                 NaT  iPhone           NaN          NaN  \n",
       "2              NaN                 NaT  iPhone           NaN          NaN  \n",
       "3              NaN                 NaT  iPhone           NaN          NaN  \n",
       "4      -76,9277072 2010-09-11 23:50:00  iPhone           4.0          5.0  "
      ]
     },
     "execution_count": 97,
     "metadata": {},
     "output_type": "execute_result"
    }
   ],
   "source": [
    "taxi.head()"
   ]
  },
  {
   "cell_type": "code",
   "execution_count": 100,
   "metadata": {},
   "outputs": [
    {
     "data": {
      "text/plain": [
       "iPhone     9741\n",
       "web        7631\n",
       "Android    4909\n",
       "iPad        571\n",
       "Wap         136\n",
       "Name: source, dtype: int64"
      ]
     },
     "execution_count": 100,
     "metadata": {},
     "output_type": "execute_result"
    }
   ],
   "source": [
    "taxi.source.value_counts()"
   ]
  },
  {
   "cell_type": "code",
   "execution_count": 101,
   "metadata": {},
   "outputs": [
    {
     "data": {
      "text/plain": [
       "iPhone     42.0\n",
       "web        33.0\n",
       "Android    21.0\n",
       "iPad        2.0\n",
       "Wap         1.0\n",
       "Name: source, dtype: float64"
      ]
     },
     "execution_count": 101,
     "metadata": {},
     "output_type": "execute_result"
    }
   ],
   "source": [
    "round(taxi.source.value_counts() / taxi.shape[0] * 100)"
   ]
  },
  {
   "cell_type": "code",
   "execution_count": 115,
   "metadata": {},
   "outputs": [],
   "source": [
    "driver_score_counts = taxi.driver_score.value_counts(normalize=True).mul(100).round(2) \\\n",
    "                  .reset_index() \\\n",
    "                    .rename(columns={'driver_score': 'percentage'}) \\\n",
    "                    .rename(columns={'index': 'driver_score'}) \\\n",
    "                    .sort_values('driver_score', ascending=True)"
   ]
  },
  {
   "cell_type": "code",
   "execution_count": 116,
   "metadata": {},
   "outputs": [
    {
     "data": {
      "text/html": [
       "<div>\n",
       "<style scoped>\n",
       "    .dataframe tbody tr th:only-of-type {\n",
       "        vertical-align: middle;\n",
       "    }\n",
       "\n",
       "    .dataframe tbody tr th {\n",
       "        vertical-align: top;\n",
       "    }\n",
       "\n",
       "    .dataframe thead th {\n",
       "        text-align: right;\n",
       "    }\n",
       "</style>\n",
       "<table border=\"1\" class=\"dataframe\">\n",
       "  <thead>\n",
       "    <tr style=\"text-align: right;\">\n",
       "      <th></th>\n",
       "      <th>driver_score</th>\n",
       "      <th>percentage</th>\n",
       "    </tr>\n",
       "  </thead>\n",
       "  <tbody>\n",
       "    <tr>\n",
       "      <th>2</th>\n",
       "      <td>0.0</td>\n",
       "      <td>14.30</td>\n",
       "    </tr>\n",
       "    <tr>\n",
       "      <th>4</th>\n",
       "      <td>1.0</td>\n",
       "      <td>1.23</td>\n",
       "    </tr>\n",
       "    <tr>\n",
       "      <th>5</th>\n",
       "      <td>2.0</td>\n",
       "      <td>0.81</td>\n",
       "    </tr>\n",
       "    <tr>\n",
       "      <th>3</th>\n",
       "      <td>3.0</td>\n",
       "      <td>2.97</td>\n",
       "    </tr>\n",
       "    <tr>\n",
       "      <th>1</th>\n",
       "      <td>4.0</td>\n",
       "      <td>21.88</td>\n",
       "    </tr>\n",
       "    <tr>\n",
       "      <th>0</th>\n",
       "      <td>5.0</td>\n",
       "      <td>58.81</td>\n",
       "    </tr>\n",
       "  </tbody>\n",
       "</table>\n",
       "</div>"
      ],
      "text/plain": [
       "   driver_score  percentage\n",
       "2           0.0       14.30\n",
       "4           1.0        1.23\n",
       "5           2.0        0.81\n",
       "3           3.0        2.97\n",
       "1           4.0       21.88\n",
       "0           5.0       58.81"
      ]
     },
     "execution_count": 116,
     "metadata": {},
     "output_type": "execute_result"
    }
   ],
   "source": [
    "driver_score_counts"
   ]
  },
  {
   "cell_type": "code",
   "execution_count": 122,
   "metadata": {},
   "outputs": [
    {
     "data": {
      "image/png": "[encoded data removed]",
      "text/plain": [
       "<Figure size 432x288 with 1 Axes>"
      ]
     },
     "metadata": {
      "needs_background": "light"
     },
     "output_type": "display_data"
    }
   ],
   "source": [
    "ax = sns.barplot(x='driver_score', y='percentage', data=driver_score_counts, color='blue', alpha=0.5)\n",
    "ax.set(xlabel='driver_score', ylabel='percentage')\n",
    "sns.despine()  # убрать часть рамки графика\n",
    "plt.show()"
   ]
  },
  {
   "cell_type": "code",
   "execution_count": 123,
   "metadata": {},
   "outputs": [],
   "source": [
    "rider_score_counts = taxi.rider_score.value_counts(normalize=True).mul(100).round(2) \\\n",
    "                  .reset_index() \\\n",
    "                    .rename(columns={'rider_score': 'percentage'}) \\\n",
    "                    .rename(columns={'index': 'rider_score'}) \\\n",
    "                    .sort_values('rider_score', ascending=True)"
   ]
  },
  {
   "cell_type": "code",
   "execution_count": 124,
   "metadata": {},
   "outputs": [
    {
     "data": {
      "text/html": [
       "<div>\n",
       "<style scoped>\n",
       "    .dataframe tbody tr th:only-of-type {\n",
       "        vertical-align: middle;\n",
       "    }\n",
       "\n",
       "    .dataframe tbody tr th {\n",
       "        vertical-align: top;\n",
       "    }\n",
       "\n",
       "    .dataframe thead th {\n",
       "        text-align: right;\n",
       "    }\n",
       "</style>\n",
       "<table border=\"1\" class=\"dataframe\">\n",
       "  <thead>\n",
       "    <tr style=\"text-align: right;\">\n",
       "      <th></th>\n",
       "      <th>rider_score</th>\n",
       "      <th>percentage</th>\n",
       "    </tr>\n",
       "  </thead>\n",
       "  <tbody>\n",
       "    <tr>\n",
       "      <th>2</th>\n",
       "      <td>0.0</td>\n",
       "      <td>2.29</td>\n",
       "    </tr>\n",
       "    <tr>\n",
       "      <th>4</th>\n",
       "      <td>1.0</td>\n",
       "      <td>0.21</td>\n",
       "    </tr>\n",
       "    <tr>\n",
       "      <th>5</th>\n",
       "      <td>2.0</td>\n",
       "      <td>0.19</td>\n",
       "    </tr>\n",
       "    <tr>\n",
       "      <th>3</th>\n",
       "      <td>3.0</td>\n",
       "      <td>1.38</td>\n",
       "    </tr>\n",
       "    <tr>\n",
       "      <th>1</th>\n",
       "      <td>4.0</td>\n",
       "      <td>8.83</td>\n",
       "    </tr>\n",
       "    <tr>\n",
       "      <th>0</th>\n",
       "      <td>5.0</td>\n",
       "      <td>87.10</td>\n",
       "    </tr>\n",
       "  </tbody>\n",
       "</table>\n",
       "</div>"
      ],
      "text/plain": [
       "   rider_score  percentage\n",
       "2          0.0        2.29\n",
       "4          1.0        0.21\n",
       "5          2.0        0.19\n",
       "3          3.0        1.38\n",
       "1          4.0        8.83\n",
       "0          5.0       87.10"
      ]
     },
     "execution_count": 124,
     "metadata": {},
     "output_type": "execute_result"
    }
   ],
   "source": [
    "rider_score_counts"
   ]
  },
  {
   "cell_type": "code",
   "execution_count": 125,
   "metadata": {},
   "outputs": [
    {
     "data": {
      "image/png": "[encoded data removed]",
      "text/plain": [
       "<Figure size 432x288 with 1 Axes>"
      ]
     },
     "metadata": {
      "needs_background": "light"
     },
     "output_type": "display_data"
    }
   ],
   "source": [
    "ax = sns.barplot(x='rider_score', y='percentage', data=rider_score_counts, color='blue', alpha=0.5)\n",
    "ax.set(xlabel='rider_score', ylabel='percentage')\n",
    "sns.despine()  # убрать часть рамки графика\n",
    "plt.show()"
   ]
  },
  {
   "cell_type": "code",
   "execution_count": null,
   "metadata": {},
   "outputs": [],
   "source": []
  }
 ],
 "metadata": {
  "kernelspec": {
   "display_name": "Python 3",
   "language": "python",
   "name": "python3"
  },
  "language_info": {
   "codemirror_mode": {
    "name": "ipython",
    "version": 3
   },
   "file_extension": ".py",
   "mimetype": "text/x-python",
   "name": "python",
   "nbconvert_exporter": "python",
   "pygments_lexer": "ipython3",
   "version": "3.7.3"
  }
 },
 "nbformat": 4,
 "nbformat_minor": 4
}
